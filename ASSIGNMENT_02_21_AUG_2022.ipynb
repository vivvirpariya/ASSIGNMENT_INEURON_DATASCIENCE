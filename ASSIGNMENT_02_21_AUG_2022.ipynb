{
 "cells": [
  {
   "cell_type": "markdown",
   "id": "fc0e0ea2",
   "metadata": {},
   "source": [
    "##### 1.What are the two values of the Boolean data type? How do you write them?"
   ]
  },
  {
   "cell_type": "code",
   "execution_count": null,
   "id": "1f66e8cb",
   "metadata": {},
   "outputs": [],
   "source": [
    "\"\"\"true and false are two values of Boolean data type.\n",
    "True = true is indicate value is right. also known as 1.\n",
    "False = fase is indicate value is wrong. also known as 0.\n",
    "\n",
    "eg.:\n",
    "if condition is input user_name, then given input is right or not check by boolean data type.\n",
    "if it is right then indicate true otherwise false.\n",
    "\"\"\""
   ]
  },
  {
   "cell_type": "markdown",
   "id": "a6a8de57",
   "metadata": {},
   "source": [
    "##### 2. What are the three different types of Boolean operators?"
   ]
  },
  {
   "cell_type": "code",
   "execution_count": null,
   "id": "140016b1",
   "metadata": {},
   "outputs": [],
   "source": [
    "\"\"\"\n",
    "AND - Use for multi Value check.\n",
    "OR  - Use for Option Value check.\n",
    "NOT - use for specifc term to eliminate.\n",
    "\"\"\""
   ]
  },
  {
   "cell_type": "markdown",
   "id": "15e813a0",
   "metadata": {},
   "source": [
    "##### 3. Make a list of each Boolean operators truth tables (i.e. every possible combination of Boolean values for the operator and what it evaluate )."
   ]
  },
  {
   "cell_type": "code",
   "execution_count": null,
   "id": "6a49c840",
   "metadata": {},
   "outputs": [],
   "source": [
    "\"\"\"\n",
    "True and True   = True\n",
    "True and False  = False\n",
    "False and False = False\n",
    "False and True  = False\n",
    "\n",
    "True or True    = True\n",
    "True or False   = True\n",
    "False or False  = False\n",
    "False or True   = True\n",
    "\n",
    "Not False = True\n",
    "Not True  = False\n",
    "\n",
    "\"\"\""
   ]
  },
  {
   "cell_type": "markdown",
   "id": "4377b7a1",
   "metadata": {},
   "source": [
    "##### 4. What are the values of the following expressions?\n",
    "(5 > 4) and (3 == 5)\n",
    "\n",
    "not (5 > 4)\n",
    "\n",
    "(5 > 4) or (3 == 5)\n",
    "\n",
    "not ((5 > 4) or (3 == 5))\n",
    "\n",
    "(True and True) and (True == False)\n",
    "\n",
    "(not False) or (not True)"
   ]
  },
  {
   "cell_type": "code",
   "execution_count": null,
   "id": "546f8ba7",
   "metadata": {},
   "outputs": [],
   "source": [
    "\"\"\"(5 > 4) and (3 == 5)              = False\n",
    "\n",
    "not (5 > 4)                          = False\n",
    "\n",
    "(5 > 4) or (3 == 5)                  = False\n",
    "\n",
    "not ((5 > 4) or (3 == 5))            = False\n",
    "\n",
    "(True and True) and (True == False)  = False\n",
    "\n",
    "(not False) or (not True)            = False\n",
    "\n",
    "\"\"\""
   ]
  },
  {
   "cell_type": "code",
   "execution_count": 7,
   "id": "bf580d80",
   "metadata": {},
   "outputs": [
    {
     "data": {
      "text/plain": [
       "False"
      ]
     },
     "execution_count": 7,
     "metadata": {},
     "output_type": "execute_result"
    }
   ],
   "source": [
    "(5 > 4) and (3 == 5)"
   ]
  },
  {
   "cell_type": "code",
   "execution_count": 8,
   "id": "729b918d",
   "metadata": {},
   "outputs": [
    {
     "data": {
      "text/plain": [
       "False"
      ]
     },
     "execution_count": 8,
     "metadata": {},
     "output_type": "execute_result"
    }
   ],
   "source": [
    "not (5 > 4)"
   ]
  },
  {
   "cell_type": "code",
   "execution_count": 9,
   "id": "58c1ba5b",
   "metadata": {},
   "outputs": [
    {
     "data": {
      "text/plain": [
       "True"
      ]
     },
     "execution_count": 9,
     "metadata": {},
     "output_type": "execute_result"
    }
   ],
   "source": [
    "(5 > 4) or (3 == 5)"
   ]
  },
  {
   "cell_type": "code",
   "execution_count": 10,
   "id": "03433251",
   "metadata": {},
   "outputs": [
    {
     "data": {
      "text/plain": [
       "False"
      ]
     },
     "execution_count": 10,
     "metadata": {},
     "output_type": "execute_result"
    }
   ],
   "source": [
    "(True and True) and (True == False)"
   ]
  },
  {
   "cell_type": "code",
   "execution_count": 11,
   "id": "e7cc2e66",
   "metadata": {},
   "outputs": [
    {
     "data": {
      "text/plain": [
       "True"
      ]
     },
     "execution_count": 11,
     "metadata": {},
     "output_type": "execute_result"
    }
   ],
   "source": [
    "(not False) or (not True)"
   ]
  },
  {
   "cell_type": "markdown",
   "id": "b07ca3ec",
   "metadata": {},
   "source": [
    "##### 5. What are the six comparison operators?"
   ]
  },
  {
   "cell_type": "code",
   "execution_count": null,
   "id": "d5b047e0",
   "metadata": {},
   "outputs": [],
   "source": [
    "\"\"\"\n",
    ">   Greater than.\n",
    "<   Less then.\n",
    "==  Equal Equal to.\n",
    "!=  Not Equal to.\n",
    "<=  Less then or Equal to.\n",
    ">=  Greater then or Equal to.\n",
    "\n",
    "\"\"\""
   ]
  },
  {
   "cell_type": "markdown",
   "id": "b1374469",
   "metadata": {},
   "source": [
    "##### 6. How do you tell the difference between the equal to and assignment operators?Describe a condition and when you would use one."
   ]
  },
  {
   "cell_type": "code",
   "execution_count": null,
   "id": "a1a17ad1",
   "metadata": {},
   "outputs": [],
   "source": [
    "a = 5, is assignment Operator, value use for Variable.\n",
    "if a == 5 is a boolean operator, use for Comparision."
   ]
  },
  {
   "cell_type": "code",
   "execution_count": 13,
   "id": "0347b7bb",
   "metadata": {},
   "outputs": [
    {
     "name": "stdout",
     "output_type": "stream",
     "text": [
      "FALSE\n"
     ]
    }
   ],
   "source": [
    "#eg.:\n",
    "#1. Assignment Operator:\n",
    "a = 5\n",
    "#2 Boolean Operator:\n",
    "if a == 6:\n",
    "    print(\"TRUE\")\n",
    "else :\n",
    "    print(\"FALSE\")"
   ]
  },
  {
   "cell_type": "markdown",
   "id": "d0df77b6",
   "metadata": {},
   "source": [
    "##### 7. Identify the three blocks in this code:"
   ]
  },
  {
   "cell_type": "code",
   "execution_count": 15,
   "id": "d381cc32",
   "metadata": {},
   "outputs": [
    {
     "name": "stdout",
     "output_type": "stream",
     "text": [
      "ham\n",
      "spam\n",
      "spam\n"
     ]
    }
   ],
   "source": [
    "spam = 0\n",
    "#Block_1\n",
    "if spam == 10:\n",
    "    print('eggs')\n",
    "#Block_2\n",
    "if spam > 5:\n",
    "    print('bacon')\n",
    "#Block_3\n",
    "else:\n",
    "    print('ham')\n",
    "    print('spam')\n",
    "    print('spam')"
   ]
  },
  {
   "cell_type": "markdown",
   "id": "bd8d8f07",
   "metadata": {},
   "source": [
    "##### 8. Write code that prints Hello if 1 is stored in spam, prints Howdy if 2 is stored in spam, and prints Greetings! if anything else is stored in spam."
   ]
  },
  {
   "cell_type": "code",
   "execution_count": 17,
   "id": "c9ea3d2d",
   "metadata": {},
   "outputs": [
    {
     "name": "stdout",
     "output_type": "stream",
     "text": [
      "Input Value: VIR\n",
      "Greetings!\n"
     ]
    }
   ],
   "source": [
    "spam = input(\"Input Value: \")\n",
    "if spam == 1:\n",
    "    print(\"Hello\")\n",
    "elif spam == 2:\n",
    "    print(\"Howdy\")\n",
    "else :\n",
    "    print(\"Greetings!\")"
   ]
  },
  {
   "cell_type": "markdown",
   "id": "0cedff14",
   "metadata": {},
   "source": [
    "##### 9.If your programme is stuck in an endless loop, what keys you’ll press?"
   ]
  },
  {
   "cell_type": "code",
   "execution_count": null,
   "id": "5f833685",
   "metadata": {},
   "outputs": [],
   "source": [
    "interrupt the kernel : Stop \n",
    "Key : Control + C"
   ]
  },
  {
   "cell_type": "markdown",
   "id": "9afd7499",
   "metadata": {},
   "source": [
    "##### 10. How can you tell the difference between break and continue?"
   ]
  },
  {
   "cell_type": "code",
   "execution_count": null,
   "id": "7484ef83",
   "metadata": {},
   "outputs": [],
   "source": [
    "Break : it terminates the execution.\n",
    "Continue : it skip the current iteration, Execute next one."
   ]
  },
  {
   "cell_type": "code",
   "execution_count": 23,
   "id": "edbd6378",
   "metadata": {},
   "outputs": [
    {
     "name": "stdout",
     "output_type": "stream",
     "text": [
      "Break:  0\n",
      "Break:  1\n",
      "Break:  2\n",
      "Break:  3\n",
      "Break:  4\n"
     ]
    }
   ],
   "source": [
    "for i in range(15):\n",
    "    if i == 5:\n",
    "        break\n",
    "    print(\"Break: \", i)"
   ]
  },
  {
   "cell_type": "code",
   "execution_count": 24,
   "id": "d5eefdba",
   "metadata": {},
   "outputs": [
    {
     "name": "stdout",
     "output_type": "stream",
     "text": [
      "continue:  0\n",
      "continue:  1\n",
      "continue:  2\n",
      "continue:  3\n",
      "continue:  4\n",
      "continue:  6\n",
      "continue:  7\n",
      "continue:  8\n",
      "continue:  9\n",
      "continue:  10\n",
      "continue:  11\n",
      "continue:  12\n",
      "continue:  13\n",
      "continue:  14\n"
     ]
    }
   ],
   "source": [
    "for i in range(15):\n",
    "    if i == 5:\n",
    "        continue\n",
    "    print(\"continue: \", i)"
   ]
  },
  {
   "cell_type": "markdown",
   "id": "5fc0b930",
   "metadata": {},
   "source": [
    "##### 11. In a for loop, what is the difference between range(10), range(0, 10), and range(0, 10, 1)? "
   ]
  },
  {
   "cell_type": "code",
   "execution_count": 25,
   "id": "bc72aa96",
   "metadata": {},
   "outputs": [
    {
     "data": {
      "text/plain": [
       "range(0, 10)"
      ]
     },
     "execution_count": 25,
     "metadata": {},
     "output_type": "execute_result"
    }
   ],
   "source": [
    "range(10)"
   ]
  },
  {
   "cell_type": "code",
   "execution_count": 26,
   "id": "baa1300f",
   "metadata": {},
   "outputs": [
    {
     "data": {
      "text/plain": [
       "range(0, 10)"
      ]
     },
     "execution_count": 26,
     "metadata": {},
     "output_type": "execute_result"
    }
   ],
   "source": [
    "range(0, 10)"
   ]
  },
  {
   "cell_type": "code",
   "execution_count": 27,
   "id": "d3895a5b",
   "metadata": {},
   "outputs": [
    {
     "data": {
      "text/plain": [
       "range(0, 10)"
      ]
     },
     "execution_count": 27,
     "metadata": {},
     "output_type": "execute_result"
    }
   ],
   "source": [
    "range(0, 10, 1)"
   ]
  },
  {
   "cell_type": "code",
   "execution_count": null,
   "id": "071a5edf",
   "metadata": {},
   "outputs": [],
   "source": [
    "\"\"\"all three are same. \n",
    "but \"range(10)\" is indicate start from 0 to 9 (not consider 10), \n",
    "same  as in range(0,10) it is also indicate same but here mention specifically start point is 0. \n",
    "and \n",
    "last range(0,10,1) is indicate a start point, end point and jump distance also. jump distance and direction of jump is indicated (+1)\n",
    "\"\"\""
   ]
  },
  {
   "cell_type": "markdown",
   "id": "45ddc164",
   "metadata": {},
   "source": [
    "##### 12. Write a short program that prints the numbers 1 to 10 using a for loop. Then write an equivalent program that prints the numbers 1 to 10 using a while loop."
   ]
  },
  {
   "cell_type": "code",
   "execution_count": 28,
   "id": "2bbaebd5",
   "metadata": {},
   "outputs": [
    {
     "name": "stdout",
     "output_type": "stream",
     "text": [
      "1\n",
      "2\n",
      "3\n",
      "4\n",
      "5\n",
      "6\n",
      "7\n",
      "8\n",
      "9\n",
      "10\n"
     ]
    }
   ],
   "source": [
    "#for loop\n",
    "for i in range(1,11):\n",
    "    print(i)"
   ]
  },
  {
   "cell_type": "code",
   "execution_count": 29,
   "id": "4bd50f68",
   "metadata": {},
   "outputs": [
    {
     "name": "stdout",
     "output_type": "stream",
     "text": [
      "1\n",
      "2\n",
      "3\n",
      "4\n",
      "5\n",
      "6\n",
      "7\n",
      "8\n",
      "9\n",
      "10\n"
     ]
    }
   ],
   "source": [
    "#While Loop\n",
    "a = 1\n",
    "while a <= 10:\n",
    "    print(a)\n",
    "    a = a + 1"
   ]
  },
  {
   "cell_type": "markdown",
   "id": "c239a84b",
   "metadata": {},
   "source": [
    "##### 13. If you had a function named bacon() inside a module named spam, how would you call it after importing spam?"
   ]
  },
  {
   "cell_type": "code",
   "execution_count": null,
   "id": "6cb6fad1",
   "metadata": {},
   "outputs": [],
   "source": [
    "spam.bacon()"
   ]
  }
 ],
 "metadata": {
  "kernelspec": {
   "display_name": "Python 3 (ipykernel)",
   "language": "python",
   "name": "python3"
  },
  "language_info": {
   "codemirror_mode": {
    "name": "ipython",
    "version": 3
   },
   "file_extension": ".py",
   "mimetype": "text/x-python",
   "name": "python",
   "nbconvert_exporter": "python",
   "pygments_lexer": "ipython3",
   "version": "3.9.12"
  }
 },
 "nbformat": 4,
 "nbformat_minor": 5
}
