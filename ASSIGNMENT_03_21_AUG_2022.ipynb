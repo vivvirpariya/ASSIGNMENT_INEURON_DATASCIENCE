{
 "cells": [
  {
   "cell_type": "markdown",
   "id": "030b2642",
   "metadata": {},
   "source": [
    "##### 1. Why are functions advantageous to have in your programs?"
   ]
  },
  {
   "cell_type": "code",
   "execution_count": null,
   "id": "12a8b57c",
   "metadata": {},
   "outputs": [],
   "source": [
    "functions do major role in code, its reduce same coding for same kind of approach every time. makes programs easier to read and Update."
   ]
  },
  {
   "cell_type": "markdown",
   "id": "49770c20",
   "metadata": {},
   "source": [
    "##### 2. When does the code in a function run: when it&#39;s specified or when its called?"
   ]
  },
  {
   "cell_type": "code",
   "execution_count": null,
   "id": "84d46898",
   "metadata": {},
   "outputs": [],
   "source": [
    "\"\"\"first define function, then its possible to use in Programing.\n",
    "in other words first define and import function, whenever we we required the same kind of approch multi time there we use as:\n",
    "\n",
    "\n",
    "    vir_function() #function name.\n",
    "    vir.func() #function is in other file/module then first import then use properly.\n",
    "    \n",
    "    \"\"\""
   ]
  },
  {
   "cell_type": "markdown",
   "id": "48924d8a",
   "metadata": {},
   "source": [
    "##### 3. What statement creates a function?"
   ]
  },
  {
   "cell_type": "code",
   "execution_count": null,
   "id": "a2c2895a",
   "metadata": {},
   "outputs": [],
   "source": [
    "first - declare name of function and create variable for function.\n",
    "second - def func_name()\n",
    "third - add arguments (docstring)"
   ]
  },
  {
   "cell_type": "markdown",
   "id": "b5b41b40",
   "metadata": {},
   "source": [
    "##### 4. What is the difference between a function and a function call?"
   ]
  },
  {
   "cell_type": "code",
   "execution_count": null,
   "id": "1f89c207",
   "metadata": {},
   "outputs": [],
   "source": [
    "function is block of Code, does the perticular operation and return as a result.\n",
    "function call is the code pass control to function everytime.\n"
   ]
  },
  {
   "cell_type": "markdown",
   "id": "c262935d",
   "metadata": {},
   "source": [
    "##### 5. How many global scopes are there in a Python program? How many local scopes?"
   ]
  },
  {
   "cell_type": "code",
   "execution_count": null,
   "id": "93c7d51e",
   "metadata": {},
   "outputs": [],
   "source": [
    "One Global Scope\n",
    "whenever a function created is called Local Scope."
   ]
  },
  {
   "cell_type": "markdown",
   "id": "060942a3",
   "metadata": {},
   "source": [
    "##### 6. What happens to variables in a local scope when the function call returns?"
   ]
  },
  {
   "cell_type": "code",
   "execution_count": null,
   "id": "66daf164",
   "metadata": {},
   "outputs": [],
   "source": [
    "local variable retains its value until the next time  function is called.\n",
    "local variable can be used outside the function any time after the funtion call return."
   ]
  },
  {
   "cell_type": "markdown",
   "id": "a6f4567f",
   "metadata": {},
   "source": [
    "##### 7. What is the concept of a return value? Is it possible to have a return value in an expression?"
   ]
  },
  {
   "cell_type": "code",
   "execution_count": null,
   "id": "53f03eb2",
   "metadata": {},
   "outputs": [],
   "source": [
    "return value script when complete the task or as result, \n",
    "The statements after the return statements are not executed. If the return statement is without any expression, then the special value None is returned."
   ]
  },
  {
   "cell_type": "markdown",
   "id": "4a536259",
   "metadata": {},
   "source": [
    "##### 8. If a function does not have a return statement, what is the return value of a call to that function?"
   ]
  },
  {
   "cell_type": "code",
   "execution_count": null,
   "id": "4d4bcd9d",
   "metadata": {},
   "outputs": [],
   "source": [
    "If a function is not returning any values, then we use void as the return type. Void functions do not return a value after the function executes but they are used similarly like value-returning functions."
   ]
  },
  {
   "cell_type": "markdown",
   "id": "f1d0aafd",
   "metadata": {},
   "source": [
    "##### 9. How do you make a function variable refer to the global variable?"
   ]
  },
  {
   "cell_type": "code",
   "execution_count": null,
   "id": "49c25112",
   "metadata": {},
   "outputs": [],
   "source": [
    "global keyword to modified global variable inside a function, \n",
    "globle variable is accessible in any function."
   ]
  },
  {
   "cell_type": "markdown",
   "id": "165eb9e0",
   "metadata": {},
   "source": [
    "##### 10. What is the data type of None?"
   ]
  },
  {
   "cell_type": "code",
   "execution_count": null,
   "id": "0947f453",
   "metadata": {},
   "outputs": [],
   "source": [
    "None is use for null Value or no Value. also known as empty string."
   ]
  },
  {
   "cell_type": "markdown",
   "id": "be8f8dbc",
   "metadata": {},
   "source": [
    "##### 11. What does the sentence import areallyourpetsnamederic do?"
   ]
  },
  {
   "cell_type": "code",
   "execution_count": null,
   "id": "d03b4a00",
   "metadata": {},
   "outputs": [],
   "source": [
    "import statement imports a module named areallyourpetsnamederic."
   ]
  },
  {
   "cell_type": "markdown",
   "id": "9cbedc64",
   "metadata": {},
   "source": [
    "##### 12. If you had a bacon() feature in a spam module, what would you call it after importing spam?"
   ]
  },
  {
   "cell_type": "code",
   "execution_count": null,
   "id": "a0be7c60",
   "metadata": {},
   "outputs": [],
   "source": [
    "function - spam.bacon()"
   ]
  },
  {
   "cell_type": "markdown",
   "id": "286bab9f",
   "metadata": {},
   "source": [
    "##### 13. What can you do to save a programme from crashing if it encounters an error?"
   ]
  },
  {
   "cell_type": "code",
   "execution_count": null,
   "id": "a76c29b1",
   "metadata": {},
   "outputs": [],
   "source": [
    "Place the line of code that might cause an error in a try clause."
   ]
  },
  {
   "cell_type": "markdown",
   "id": "d76de62f",
   "metadata": {},
   "source": [
    "##### 14. What is the purpose of the try clause? What is the purpose of the except clause?"
   ]
  },
  {
   "cell_type": "code",
   "execution_count": null,
   "id": "ccb0bee1",
   "metadata": {},
   "outputs": [],
   "source": [
    "The code that could \"\"\"potentially cause\"\"\" an error goes in the try clause. -The code that executes if an error happens goes in the except clause."
   ]
  }
 ],
 "metadata": {
  "kernelspec": {
   "display_name": "Python 3 (ipykernel)",
   "language": "python",
   "name": "python3"
  },
  "language_info": {
   "codemirror_mode": {
    "name": "ipython",
    "version": 3
   },
   "file_extension": ".py",
   "mimetype": "text/x-python",
   "name": "python",
   "nbconvert_exporter": "python",
   "pygments_lexer": "ipython3",
   "version": "3.9.12"
  }
 },
 "nbformat": 4,
 "nbformat_minor": 5
}
