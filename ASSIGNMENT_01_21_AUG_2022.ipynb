{
 "cells": [
  {
   "cell_type": "markdown",
   "id": "3a44d9a1",
   "metadata": {},
   "source": [
    "##### 1. In the below elements which of them are values or an expression? eg:- values can be integer or string and expressions will be mathematical operators."
   ]
  },
  {
   "cell_type": "code",
   "execution_count": null,
   "id": "84397499",
   "metadata": {},
   "outputs": [],
   "source": [
    "*       - Expression - Multi.\n",
    "'hello' - Value - stri.\n",
    "-87.8   - Expression - Float\n",
    "-       - Expression - Sub.\n",
    "/       - Expression - div.\n",
    "+       - Expression - addi.\n",
    "6       - Value - inte"
   ]
  },
  {
   "cell_type": "markdown",
   "id": "5ddd8313",
   "metadata": {},
   "source": [
    "##### 2. What is the difference between string and variable?"
   ]
  },
  {
   "cell_type": "code",
   "execution_count": null,
   "id": "838cfa65",
   "metadata": {},
   "outputs": [],
   "source": [
    "String is Value or Class.\n",
    "Variable is symbol of any value or identification of input data."
   ]
  },
  {
   "cell_type": "markdown",
   "id": "13e1900c",
   "metadata": {},
   "source": [
    "##### 3. Describe three different data types."
   ]
  },
  {
   "cell_type": "code",
   "execution_count": null,
   "id": "f4f7b996",
   "metadata": {},
   "outputs": [],
   "source": [
    "str - string is an value for identified any word or sentence. eg. \"vir\"  \n",
    "int - Integer is numeric value, which one is in round off figure. eg. 25 , 465\n",
    "float - Float is numeric value, which is in multi desimal. eg. 0.20464, 2.05"
   ]
  },
  {
   "cell_type": "markdown",
   "id": "1d82f909",
   "metadata": {},
   "source": [
    "##### 4. What is an expression made up of? What do all expressions do?"
   ]
  },
  {
   "cell_type": "code",
   "execution_count": null,
   "id": "73788091",
   "metadata": {},
   "outputs": [],
   "source": [
    "Expression is use for mathamatics operation. Expression is symbol of which process done during the operation.\n",
    "eg.\n",
    "\n",
    "vir = 3135 * 3135 #multiplication operation. (Show Value is in a Variable = vir)\n"
   ]
  },
  {
   "cell_type": "markdown",
   "id": "6da7503d",
   "metadata": {},
   "source": [
    "##### 5. This assignment statements, like spam = 10. What is the difference between an expression and a statement?"
   ]
  },
  {
   "cell_type": "code",
   "execution_count": null,
   "id": "adc5bc5e",
   "metadata": {},
   "outputs": [],
   "source": [
    "Expression is symbol of Math, Statement is information related to run the process."
   ]
  },
  {
   "cell_type": "markdown",
   "id": "8d315be7",
   "metadata": {},
   "source": [
    "##### 6. After running the following code, what does the variable bacon contain?\n",
    "bacon = 22\n",
    "\n",
    "bacon + 1"
   ]
  },
  {
   "cell_type": "code",
   "execution_count": null,
   "id": "dd5932d6",
   "metadata": {},
   "outputs": [],
   "source": [
    "Result(run) = 23"
   ]
  },
  {
   "cell_type": "code",
   "execution_count": 2,
   "id": "58baf157",
   "metadata": {},
   "outputs": [
    {
     "data": {
      "text/plain": [
       "23"
      ]
     },
     "execution_count": 2,
     "metadata": {},
     "output_type": "execute_result"
    }
   ],
   "source": [
    "bacon = 22\n",
    "bacon + 1"
   ]
  },
  {
   "cell_type": "markdown",
   "id": "1921e314",
   "metadata": {},
   "source": [
    "##### 7. What should the values of the following two terms be?\n",
    "'spam' + 'spamspam'\n",
    "\n",
    "'spam'*3"
   ]
  },
  {
   "cell_type": "code",
   "execution_count": 3,
   "id": "73349c97",
   "metadata": {},
   "outputs": [
    {
     "data": {
      "text/plain": [
       "'spamspamspam'"
      ]
     },
     "execution_count": 3,
     "metadata": {},
     "output_type": "execute_result"
    }
   ],
   "source": [
    "#'spamspamspam' - Same Value/ans in both cases.\n",
    "'spam' + 'spamspam'"
   ]
  },
  {
   "cell_type": "code",
   "execution_count": 4,
   "id": "e61206bc",
   "metadata": {},
   "outputs": [
    {
     "data": {
      "text/plain": [
       "'spamspamspam'"
      ]
     },
     "execution_count": 4,
     "metadata": {},
     "output_type": "execute_result"
    }
   ],
   "source": [
    "'spam'*3"
   ]
  },
  {
   "cell_type": "markdown",
   "id": "0ea93e55",
   "metadata": {},
   "source": [
    "##### 8. Why is eggs a valid variable name while 100 is invalid?"
   ]
  },
  {
   "cell_type": "markdown",
   "id": "aa22ba6d",
   "metadata": {},
   "source": [
    "##### egg = 10"
   ]
  },
  {
   "cell_type": "code",
   "execution_count": 7,
   "id": "5a6fc412",
   "metadata": {},
   "outputs": [
    {
     "ename": "SyntaxError",
     "evalue": "cannot assign to literal (2666396822.py, line 1)",
     "output_type": "error",
     "traceback": [
      "\u001b[1;36m  Input \u001b[1;32mIn [7]\u001b[1;36m\u001b[0m\n\u001b[1;33m    100 = 10\u001b[0m\n\u001b[1;37m    ^\u001b[0m\n\u001b[1;31mSyntaxError\u001b[0m\u001b[1;31m:\u001b[0m cannot assign to literal\n"
     ]
    }
   ],
   "source": [
    "100 = 10"
   ]
  },
  {
   "cell_type": "code",
   "execution_count": 8,
   "id": "6aa5a08e",
   "metadata": {},
   "outputs": [],
   "source": [
    "egg100 = 10"
   ]
  },
  {
   "cell_type": "code",
   "execution_count": null,
   "id": "994b9a6f",
   "metadata": {},
   "outputs": [],
   "source": [
    "variable never start with interger that the reason, variable only start with alphabets."
   ]
  },
  {
   "cell_type": "markdown",
   "id": "7b9dd4cf",
   "metadata": {},
   "source": [
    "##### 9. What three functions can be used to get the integer, floating-point number, or string version of a value?"
   ]
  },
  {
   "cell_type": "code",
   "execution_count": null,
   "id": "562069e6",
   "metadata": {},
   "outputs": [],
   "source": [
    "int()\n",
    "float()\n",
    "str()"
   ]
  },
  {
   "cell_type": "markdown",
   "id": "19fb33e9",
   "metadata": {},
   "source": [
    "##### 10. Why does this expression cause an error? How can you fix it?"
   ]
  },
  {
   "cell_type": "code",
   "execution_count": 10,
   "id": "f36f9d50",
   "metadata": {},
   "outputs": [
    {
     "ename": "TypeError",
     "evalue": "can only concatenate str (not \"int\") to str",
     "output_type": "error",
     "traceback": [
      "\u001b[1;31m---------------------------------------------------------------------------\u001b[0m",
      "\u001b[1;31mTypeError\u001b[0m                                 Traceback (most recent call last)",
      "Input \u001b[1;32mIn [10]\u001b[0m, in \u001b[0;36m<cell line: 1>\u001b[1;34m()\u001b[0m\n\u001b[1;32m----> 1\u001b[0m \u001b[38;5;124;43m'\u001b[39;49m\u001b[38;5;124;43mI have eaten\u001b[39;49m\u001b[38;5;124;43m'\u001b[39;49m\u001b[43m \u001b[49m\u001b[38;5;241;43m+\u001b[39;49m\u001b[43m \u001b[49m\u001b[38;5;241;43m99\u001b[39;49m \u001b[38;5;241m+\u001b[39m \u001b[38;5;124m'\u001b[39m\u001b[38;5;124mburritos\u001b[39m\u001b[38;5;124m'\u001b[39m\n",
      "\u001b[1;31mTypeError\u001b[0m: can only concatenate str (not \"int\") to str"
     ]
    }
   ],
   "source": [
    "'I have eaten' + 99 + 'burritos'"
   ]
  },
  {
   "cell_type": "code",
   "execution_count": 11,
   "id": "daf4ae7c",
   "metadata": {},
   "outputs": [
    {
     "data": {
      "text/plain": [
       "'I have eaten99burritos'"
      ]
     },
     "execution_count": 11,
     "metadata": {},
     "output_type": "execute_result"
    }
   ],
   "source": [
    "'I have eaten' + '99' + 'burritos'"
   ]
  },
  {
   "cell_type": "code",
   "execution_count": null,
   "id": "b67177fa",
   "metadata": {},
   "outputs": [],
   "source": [
    "here is two type, that's the problem.\n",
    "'99' - string\n",
    "99 - int\n",
    "string and integer never add. thats why 99 is convert in string first then its possible."
   ]
  }
 ],
 "metadata": {
  "kernelspec": {
   "display_name": "Python 3 (ipykernel)",
   "language": "python",
   "name": "python3"
  },
  "language_info": {
   "codemirror_mode": {
    "name": "ipython",
    "version": 3
   },
   "file_extension": ".py",
   "mimetype": "text/x-python",
   "name": "python",
   "nbconvert_exporter": "python",
   "pygments_lexer": "ipython3",
   "version": "3.9.12"
  }
 },
 "nbformat": 4,
 "nbformat_minor": 5
}
